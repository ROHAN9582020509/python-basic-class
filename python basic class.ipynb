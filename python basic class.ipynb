{
 "cells": [
  {
   "cell_type": "markdown",
   "id": "62c7fa5c",
   "metadata": {},
   "source": [
    "# 14 may python basic"
   ]
  },
  {
   "cell_type": "code",
   "execution_count": 1,
   "id": "07f1762f",
   "metadata": {},
   "outputs": [
    {
     "data": {
      "text/plain": [
       "2"
      ]
     },
     "execution_count": 1,
     "metadata": {},
     "output_type": "execute_result"
    }
   ],
   "source": [
    "1+1"
   ]
  },
  {
   "cell_type": "code",
   "execution_count": 2,
   "id": "7573a6fb",
   "metadata": {},
   "outputs": [
    {
     "data": {
      "text/plain": [
       "34224"
      ]
     },
     "execution_count": 2,
     "metadata": {},
     "output_type": "execute_result"
    }
   ],
   "source": [
    "4324\n",
    "34224\n"
   ]
  },
  {
   "cell_type": "code",
   "execution_count": 3,
   "id": "1442cffb",
   "metadata": {},
   "outputs": [
    {
     "data": {
      "text/plain": [
       "10"
      ]
     },
     "execution_count": 3,
     "metadata": {},
     "output_type": "execute_result"
    }
   ],
   "source": [
    "4+6"
   ]
  },
  {
   "cell_type": "markdown",
   "id": "7f0b7d89",
   "metadata": {},
   "source": [
    "# variable"
   ]
  },
  {
   "cell_type": "markdown",
   "id": "f4984b04",
   "metadata": {},
   "source": [
    "# variable is nothing but kind of a entity where you will be able to store a data which you can process in a one time.  "
   ]
  },
  {
   "cell_type": "markdown",
   "id": "c45c275b",
   "metadata": {},
   "source": [
    "# example="
   ]
  },
  {
   "cell_type": "markdown",
   "id": "b118467e",
   "metadata": {},
   "source": [
    "# a = 10 [a is variable and 10 is value] "
   ]
  },
  {
   "cell_type": "code",
   "execution_count": 4,
   "id": "269e1931",
   "metadata": {},
   "outputs": [],
   "source": [
    "a = 10"
   ]
  },
  {
   "cell_type": "code",
   "execution_count": 5,
   "id": "d346b4c3",
   "metadata": {},
   "outputs": [
    {
     "data": {
      "text/plain": [
       "10"
      ]
     },
     "execution_count": 5,
     "metadata": {},
     "output_type": "execute_result"
    }
   ],
   "source": [
    "a"
   ]
  },
  {
   "cell_type": "code",
   "execution_count": 6,
   "id": "0e50d598",
   "metadata": {},
   "outputs": [
    {
     "data": {
      "text/plain": [
       "8"
      ]
     },
     "execution_count": 6,
     "metadata": {},
     "output_type": "execute_result"
    }
   ],
   "source": [
    "a-2"
   ]
  },
  {
   "cell_type": "code",
   "execution_count": 3,
   "id": "cf43b88a",
   "metadata": {},
   "outputs": [],
   "source": [
    "sudh=10"
   ]
  },
  {
   "cell_type": "code",
   "execution_count": 4,
   "id": "27accd16",
   "metadata": {},
   "outputs": [
    {
     "data": {
      "text/plain": [
       "8"
      ]
     },
     "execution_count": 4,
     "metadata": {},
     "output_type": "execute_result"
    }
   ],
   "source": [
    "sudh-2"
   ]
  },
  {
   "cell_type": "markdown",
   "id": "8c9aece6",
   "metadata": {},
   "source": [
    "# types of variable\n",
    "integer based variable\n",
    "string based variable\n",
    "floating point based variable\n",
    "bolian based variable\n",
    "\n",
    "## but in case of python this is not again required"
   ]
  },
  {
   "cell_type": "markdown",
   "id": "8a8ef2af",
   "metadata": {},
   "source": [
    "# 3,4,5,6 is a integer"
   ]
  },
  {
   "cell_type": "code",
   "execution_count": 6,
   "id": "90afeec0",
   "metadata": {},
   "outputs": [
    {
     "data": {
      "text/plain": [
       "int"
      ]
     },
     "execution_count": 6,
     "metadata": {},
     "output_type": "execute_result"
    }
   ],
   "source": [
    "type(sudh)"
   ]
  },
  {
   "cell_type": "code",
   "execution_count": 8,
   "id": "0948358b",
   "metadata": {},
   "outputs": [],
   "source": [
    "a = 34.09"
   ]
  },
  {
   "cell_type": "code",
   "execution_count": 9,
   "id": "cc85f8c7",
   "metadata": {},
   "outputs": [
    {
     "data": {
      "text/plain": [
       "float"
      ]
     },
     "execution_count": 9,
     "metadata": {},
     "output_type": "execute_result"
    }
   ],
   "source": [
    "type(a)"
   ]
  },
  {
   "cell_type": "markdown",
   "id": "af174cf0",
   "metadata": {},
   "source": [
    "# 34.09 is  floating point number, after decimal is a data"
   ]
  },
  {
   "cell_type": "code",
   "execution_count": 10,
   "id": "9f9fed40",
   "metadata": {},
   "outputs": [],
   "source": [
    "b = \"this is my first class of python an today's date is 14th may 2022\""
   ]
  },
  {
   "cell_type": "code",
   "execution_count": 11,
   "id": "5b9cac4c",
   "metadata": {},
   "outputs": [
    {
     "data": {
      "text/plain": [
       "str"
      ]
     },
     "execution_count": 11,
     "metadata": {},
     "output_type": "execute_result"
    }
   ],
   "source": [
    "type(b)"
   ]
  },
  {
   "cell_type": "code",
   "execution_count": 12,
   "id": "dfc46a7a",
   "metadata": {},
   "outputs": [
    {
     "ename": "SyntaxError",
     "evalue": "invalid syntax (2914094803.py, line 1)",
     "output_type": "error",
     "traceback": [
      "\u001b[1;36m  Input \u001b[1;32mIn [12]\u001b[1;36m\u001b[0m\n\u001b[1;33m    c = fdsafdas ffsd afdd asdf afasd\u001b[0m\n\u001b[1;37m                 ^\u001b[0m\n\u001b[1;31mSyntaxError\u001b[0m\u001b[1;31m:\u001b[0m invalid syntax\n"
     ]
    }
   ],
   "source": [
    "c = fdsafdas ffsd afdd asdf afasd"
   ]
  },
  {
   "cell_type": "code",
   "execution_count": 13,
   "id": "f174840e",
   "metadata": {},
   "outputs": [],
   "source": [
    "c = 'fdsafdas ffsd afdd asdf afasd'"
   ]
  },
  {
   "cell_type": "code",
   "execution_count": 14,
   "id": "ed20b848",
   "metadata": {},
   "outputs": [
    {
     "data": {
      "text/plain": [
       "'fdsafdas ffsd afdd asdf afasd'"
      ]
     },
     "execution_count": 14,
     "metadata": {},
     "output_type": "execute_result"
    }
   ],
   "source": [
    "c"
   ]
  },
  {
   "cell_type": "markdown",
   "id": "d2bce265",
   "metadata": {},
   "source": [
    "# upper line is a string data"
   ]
  },
  {
   "cell_type": "code",
   "execution_count": 15,
   "id": "d3eacb82",
   "metadata": {},
   "outputs": [
    {
     "data": {
      "text/plain": [
       "str"
      ]
     },
     "execution_count": 15,
     "metadata": {},
     "output_type": "execute_result"
    }
   ],
   "source": [
    "type(c)"
   ]
  },
  {
   "cell_type": "markdown",
   "id": "cf46c573",
   "metadata": {},
   "source": [
    "# single word or single character or a complete line\n",
    "single coat and double coat(' ') (\" \") that kind of the data is string."
   ]
  },
  {
   "cell_type": "code",
   "execution_count": 7,
   "id": "b2699a33",
   "metadata": {},
   "outputs": [],
   "source": [
    "d=True"
   ]
  },
  {
   "cell_type": "code",
   "execution_count": 8,
   "id": "74000f5d",
   "metadata": {},
   "outputs": [
    {
     "data": {
      "text/plain": [
       "True"
      ]
     },
     "execution_count": 8,
     "metadata": {},
     "output_type": "execute_result"
    }
   ],
   "source": [
    "d"
   ]
  },
  {
   "cell_type": "code",
   "execution_count": 9,
   "id": "1b4fa695",
   "metadata": {},
   "outputs": [
    {
     "data": {
      "text/plain": [
       "bool"
      ]
     },
     "execution_count": 9,
     "metadata": {},
     "output_type": "execute_result"
    }
   ],
   "source": [
    "type(d)"
   ]
  },
  {
   "cell_type": "code",
   "execution_count": 10,
   "id": "186bc454",
   "metadata": {},
   "outputs": [],
   "source": [
    "e=False"
   ]
  },
  {
   "cell_type": "code",
   "execution_count": 11,
   "id": "a8ca67e0",
   "metadata": {},
   "outputs": [
    {
     "data": {
      "text/plain": [
       "bool"
      ]
     },
     "execution_count": 11,
     "metadata": {},
     "output_type": "execute_result"
    }
   ],
   "source": [
    "type(e)"
   ]
  },
  {
   "cell_type": "code",
   "execution_count": 12,
   "id": "8b53dbd6",
   "metadata": {},
   "outputs": [
    {
     "data": {
      "text/plain": [
       "1"
      ]
     },
     "execution_count": 12,
     "metadata": {},
     "output_type": "execute_result"
    }
   ],
   "source": [
    "True - False"
   ]
  },
  {
   "cell_type": "code",
   "execution_count": 13,
   "id": "7fbb6772",
   "metadata": {},
   "outputs": [
    {
     "data": {
      "text/plain": [
       "0"
      ]
     },
     "execution_count": 13,
     "metadata": {},
     "output_type": "execute_result"
    }
   ],
   "source": [
    "True - True"
   ]
  },
  {
   "cell_type": "code",
   "execution_count": 16,
   "id": "5044149b",
   "metadata": {},
   "outputs": [
    {
     "data": {
      "text/plain": [
       "1"
      ]
     },
     "execution_count": 16,
     "metadata": {},
     "output_type": "execute_result"
    }
   ],
   "source": [
    "True * True"
   ]
  },
  {
   "cell_type": "code",
   "execution_count": 19,
   "id": "e7edd156",
   "metadata": {},
   "outputs": [
    {
     "ename": "ZeroDivisionError",
     "evalue": "division by zero",
     "output_type": "error",
     "traceback": [
      "\u001b[1;31m---------------------------------------------------------------------------\u001b[0m",
      "\u001b[1;31mZeroDivisionError\u001b[0m                         Traceback (most recent call last)",
      "Input \u001b[1;32mIn [19]\u001b[0m, in \u001b[0;36m<cell line: 1>\u001b[1;34m()\u001b[0m\n\u001b[1;32m----> 1\u001b[0m \u001b[38;5;28;43;01mTrue\u001b[39;49;00m\u001b[43m \u001b[49m\u001b[38;5;241;43m/\u001b[39;49m\u001b[43m \u001b[49m\u001b[38;5;28;43;01mFalse\u001b[39;49;00m\n",
      "\u001b[1;31mZeroDivisionError\u001b[0m: division by zero"
     ]
    }
   ],
   "source": [
    "True / False"
   ]
  },
  {
   "cell_type": "code",
   "execution_count": 23,
   "id": "ec124ddd",
   "metadata": {},
   "outputs": [],
   "source": [
    "n = 5+7j"
   ]
  },
  {
   "cell_type": "code",
   "execution_count": 24,
   "id": "9e114f04",
   "metadata": {},
   "outputs": [
    {
     "data": {
      "text/plain": [
       "complex"
      ]
     },
     "execution_count": 24,
     "metadata": {},
     "output_type": "execute_result"
    }
   ],
   "source": [
    "type(n)"
   ]
  },
  {
   "cell_type": "code",
   "execution_count": 25,
   "id": "f1eb0558",
   "metadata": {},
   "outputs": [
    {
     "ename": "SyntaxError",
     "evalue": "invalid syntax (1339725992.py, line 1)",
     "output_type": "error",
     "traceback": [
      "\u001b[1;36m  Input \u001b[1;32mIn [25]\u001b[1;36m\u001b[0m\n\u001b[1;33m    n = 5+7i\u001b[0m\n\u001b[1;37m           ^\u001b[0m\n\u001b[1;31mSyntaxError\u001b[0m\u001b[1;31m:\u001b[0m invalid syntax\n"
     ]
    }
   ],
   "source": [
    "n = 5+7i"
   ]
  },
  {
   "cell_type": "code",
   "execution_count": 26,
   "id": "b6d58f67",
   "metadata": {},
   "outputs": [
    {
     "data": {
      "text/plain": [
       "(10+14j)"
      ]
     },
     "execution_count": 26,
     "metadata": {},
     "output_type": "execute_result"
    }
   ],
   "source": [
    "n+n"
   ]
  },
  {
   "cell_type": "code",
   "execution_count": 27,
   "id": "504eea39",
   "metadata": {},
   "outputs": [
    {
     "data": {
      "text/plain": [
       "(5+7j)"
      ]
     },
     "execution_count": 27,
     "metadata": {},
     "output_type": "execute_result"
    }
   ],
   "source": [
    "n"
   ]
  },
  {
   "cell_type": "code",
   "execution_count": 28,
   "id": "c4754bb4",
   "metadata": {},
   "outputs": [
    {
     "data": {
      "text/plain": [
       "0.0"
      ]
     },
     "execution_count": 28,
     "metadata": {},
     "output_type": "execute_result"
    }
   ],
   "source": [
    "0/1"
   ]
  },
  {
   "cell_type": "code",
   "execution_count": 29,
   "id": "221b683c",
   "metadata": {},
   "outputs": [
    {
     "data": {
      "text/plain": [
       "(5+7j)"
      ]
     },
     "execution_count": 29,
     "metadata": {},
     "output_type": "execute_result"
    }
   ],
   "source": [
    "n"
   ]
  },
  {
   "cell_type": "code",
   "execution_count": 30,
   "id": "86ed5d3f",
   "metadata": {},
   "outputs": [
    {
     "data": {
      "text/plain": [
       "5.0"
      ]
     },
     "execution_count": 30,
     "metadata": {},
     "output_type": "execute_result"
    }
   ],
   "source": [
    "n.real"
   ]
  },
  {
   "cell_type": "code",
   "execution_count": 31,
   "id": "2de77cd0",
   "metadata": {},
   "outputs": [
    {
     "data": {
      "text/plain": [
       "<function complex.conjugate>"
      ]
     },
     "execution_count": 31,
     "metadata": {},
     "output_type": "execute_result"
    }
   ],
   "source": [
    "n.conjugate"
   ]
  },
  {
   "cell_type": "code",
   "execution_count": 32,
   "id": "de041cab",
   "metadata": {},
   "outputs": [
    {
     "data": {
      "text/plain": [
       "7.0"
      ]
     },
     "execution_count": 32,
     "metadata": {},
     "output_type": "execute_result"
    }
   ],
   "source": [
    "n.imag"
   ]
  },
  {
   "cell_type": "code",
   "execution_count": 34,
   "id": "7f45a3f4",
   "metadata": {},
   "outputs": [],
   "source": [
    "b = \"this is my first class of python an today's date is 14th may 2022\""
   ]
  },
  {
   "cell_type": "code",
   "execution_count": 35,
   "id": "69220ddb",
   "metadata": {},
   "outputs": [
    {
     "data": {
      "text/plain": [
       "str"
      ]
     },
     "execution_count": 35,
     "metadata": {},
     "output_type": "execute_result"
    }
   ],
   "source": [
    "type(b)"
   ]
  },
  {
   "cell_type": "code",
   "execution_count": 36,
   "id": "6f00f8dd",
   "metadata": {},
   "outputs": [],
   "source": [
    "l=[3,4,5,6, \"sudh\" , True ,5+3j , 345.456]"
   ]
  },
  {
   "cell_type": "code",
   "execution_count": 37,
   "id": "4a70388b",
   "metadata": {},
   "outputs": [
    {
     "data": {
      "text/plain": [
       "list"
      ]
     },
     "execution_count": 37,
     "metadata": {},
     "output_type": "execute_result"
    }
   ],
   "source": [
    "type(l)"
   ]
  },
  {
   "cell_type": "markdown",
   "id": "43bd2896",
   "metadata": {},
   "source": [
    "# index starting is 0 [0,1,2,3,4,5,6,7,8]"
   ]
  },
  {
   "cell_type": "code",
   "execution_count": 38,
   "id": "0a5622ef",
   "metadata": {},
   "outputs": [
    {
     "data": {
      "text/plain": [
       "4"
      ]
     },
     "execution_count": 38,
     "metadata": {},
     "output_type": "execute_result"
    }
   ],
   "source": [
    "l[1]"
   ]
  },
  {
   "cell_type": "markdown",
   "id": "9ea9a7c5",
   "metadata": {},
   "source": [
    "# tupples(notaion of tupples are normal bracket) () "
   ]
  },
  {
   "cell_type": "code",
   "execution_count": 41,
   "id": "92bc83d0",
   "metadata": {},
   "outputs": [],
   "source": [
    "t = (324,456,456,65,456,46, \"6546546\", \"sudh\")"
   ]
  },
  {
   "cell_type": "code",
   "execution_count": 42,
   "id": "19886081",
   "metadata": {},
   "outputs": [
    {
     "data": {
      "text/plain": [
       "tuple"
      ]
     },
     "execution_count": 42,
     "metadata": {},
     "output_type": "execute_result"
    }
   ],
   "source": [
    "type(t)"
   ]
  },
  {
   "cell_type": "markdown",
   "id": "2d262d2e",
   "metadata": {},
   "source": [
    "# dictionary (d)"
   ]
  },
  {
   "cell_type": "code",
   "execution_count": 43,
   "id": "b512cd91",
   "metadata": {},
   "outputs": [],
   "source": [
    "d = {'a' : \"sudh\" , \"b \" : \"kumar\" , \"c\" : 23432}"
   ]
  },
  {
   "cell_type": "code",
   "execution_count": 44,
   "id": "c5421337",
   "metadata": {},
   "outputs": [
    {
     "data": {
      "text/plain": [
       "dict"
      ]
     },
     "execution_count": 44,
     "metadata": {},
     "output_type": "execute_result"
    }
   ],
   "source": [
    "type(d)"
   ]
  },
  {
   "cell_type": "code",
   "execution_count": 45,
   "id": "0b8ea203",
   "metadata": {},
   "outputs": [],
   "source": [
    "t=(2231, 231, 432, 98, 761, \"xyz\", \"abc\")\n"
   ]
  },
  {
   "cell_type": "code",
   "execution_count": 46,
   "id": "cbca1017",
   "metadata": {},
   "outputs": [],
   "source": [
    "d={45}"
   ]
  },
  {
   "cell_type": "code",
   "execution_count": 47,
   "id": "a7c29ccf",
   "metadata": {},
   "outputs": [
    {
     "data": {
      "text/plain": [
       "set"
      ]
     },
     "execution_count": 47,
     "metadata": {},
     "output_type": "execute_result"
    }
   ],
   "source": [
    "type(d)"
   ]
  },
  {
   "cell_type": "code",
   "execution_count": 48,
   "id": "a23d95a1",
   "metadata": {},
   "outputs": [
    {
     "ename": "NameError",
     "evalue": "name 'z' is not defined",
     "output_type": "error",
     "traceback": [
      "\u001b[1;31m---------------------------------------------------------------------------\u001b[0m",
      "\u001b[1;31mNameError\u001b[0m                                 Traceback (most recent call last)",
      "Input \u001b[1;32mIn [48]\u001b[0m, in \u001b[0;36m<cell line: 1>\u001b[1;34m()\u001b[0m\n\u001b[1;32m----> 1\u001b[0m \u001b[43mz\u001b[49m\n",
      "\u001b[1;31mNameError\u001b[0m: name 'z' is not defined"
     ]
    }
   ],
   "source": [
    "z"
   ]
  }
 ],
 "metadata": {
  "kernelspec": {
   "display_name": "Python 3 (ipykernel)",
   "language": "python",
   "name": "python3"
  },
  "language_info": {
   "codemirror_mode": {
    "name": "ipython",
    "version": 3
   },
   "file_extension": ".py",
   "mimetype": "text/x-python",
   "name": "python",
   "nbconvert_exporter": "python",
   "pygments_lexer": "ipython3",
   "version": "3.9.12"
  }
 },
 "nbformat": 4,
 "nbformat_minor": 5
}
